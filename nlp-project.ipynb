{
 "cells": [
  {
   "cell_type": "code",
   "execution_count": 1,
   "id": "77c5f24b",
   "metadata": {
    "_cell_guid": "7dec1d84-2b97-4510-81b4-dbf16859d8e2",
    "_uuid": "392d261e-79d2-4e2c-9a53-ed23b4dbfea2",
    "collapsed": false,
    "execution": {
     "iopub.execute_input": "2023-05-31T21:12:01.573282Z",
     "iopub.status.busy": "2023-05-31T21:12:01.572746Z",
     "iopub.status.idle": "2023-05-31T21:12:18.487085Z",
     "shell.execute_reply": "2023-05-31T21:12:18.486003Z"
    },
    "jupyter": {
     "outputs_hidden": false
    },
    "papermill": {
     "duration": 16.934164,
     "end_time": "2023-05-31T21:12:18.489906",
     "exception": false,
     "start_time": "2023-05-31T21:12:01.555742",
     "status": "completed"
    },
    "tags": []
   },
   "outputs": [
    {
     "name": "stdout",
     "output_type": "stream",
     "text": [
      "[nltk_data] Error loading arabic: Package 'arabic' not found in index\n",
      "/kaggle/input/arabic-levantine-hate-speech-detection/train.csv\n",
      "/kaggle/input/arabic-levantine-hate-speech-detection/test.csv\n",
      "[nltk_data] Downloading package stopwords to /usr/share/nltk_data...\n",
      "[nltk_data]   Package stopwords is already up-to-date!\n"
     ]
    },
    {
     "name": "stderr",
     "output_type": "stream",
     "text": [
      "/opt/conda/lib/python3.10/site-packages/tensorflow_io/python/ops/__init__.py:98: UserWarning: unable to load libtensorflow_io_plugins.so: unable to open file: libtensorflow_io_plugins.so, from paths: ['/opt/conda/lib/python3.10/site-packages/tensorflow_io/python/ops/libtensorflow_io_plugins.so']\n",
      "caused by: ['/opt/conda/lib/python3.10/site-packages/tensorflow_io/python/ops/libtensorflow_io_plugins.so: undefined symbol: _ZN3tsl6StatusC1EN10tensorflow5error4CodeESt17basic_string_viewIcSt11char_traitsIcEENS_14SourceLocationE']\n",
      "  warnings.warn(f\"unable to load libtensorflow_io_plugins.so: {e}\")\n",
      "/opt/conda/lib/python3.10/site-packages/tensorflow_io/python/ops/__init__.py:104: UserWarning: file system plugins are not loaded: unable to open file: libtensorflow_io.so, from paths: ['/opt/conda/lib/python3.10/site-packages/tensorflow_io/python/ops/libtensorflow_io.so']\n",
      "caused by: ['/opt/conda/lib/python3.10/site-packages/tensorflow_io/python/ops/libtensorflow_io.so: undefined symbol: _ZTVN10tensorflow13GcsFileSystemE']\n",
      "  warnings.warn(f\"file system plugins are not loaded: {e}\")\n"
     ]
    }
   ],
   "source": [
    "import numpy as np \n",
    "import pandas as pd \n",
    "import nltk\n",
    "from nltk.tokenize import word_tokenize\n",
    "from nltk.corpus import stopwords\n",
    "from sklearn.feature_extraction.text import TfidfVectorizer\n",
    "\n",
    "# Download NLTK resources for Arabic\n",
    "nltk.download('arabic')\n",
    "import os\n",
    "for dirname, _, filenames in os.walk('/kaggle/input'):\n",
    "    for filename in filenames:\n",
    "        print(os.path.join(dirname, filename))\n",
    "import nltk\n",
    "nltk.download('stopwords')\n",
    "from nltk.corpus import stopwords\n",
    "from nltk import ngrams\n",
    "\n",
    "from sklearn.ensemble import RandomForestClassifier\n",
    "from sklearn.feature_extraction.text import TfidfVectorizer\n",
    "from sklearn.model_selection import train_test_split\n",
    "import matplotlib.pyplot as plt\n",
    "import string\n",
    "import re\n",
    "from nltk.corpus import stopwords\n",
    "from sklearn.model_selection import train_test_split, GridSearchCV\n",
    "from sklearn.feature_extraction.text import TfidfVectorizer\n",
    "from sklearn.pipeline import make_pipeline\n",
    "from sklearn.linear_model import LogisticRegression\n",
    "from sklearn.ensemble import RandomForestClassifier\n",
    "from sklearn.naive_bayes import MultinomialNB\n",
    "from sklearn.svm import SVC\n",
    "from sklearn.metrics import confusion_matrix,accuracy_score, classification_report\n",
    "import spacy\n",
    "from sklearn.metrics import accuracy_score, precision_score, recall_score, f1_score"
   ]
  },
  {
   "cell_type": "code",
   "execution_count": 2,
   "id": "bc9c5f66",
   "metadata": {
    "_cell_guid": "ef0244a7-e312-434c-9520-8f062106ab46",
    "_uuid": "2aedd088-c130-4d1f-99c7-abccb6362919",
    "collapsed": false,
    "execution": {
     "iopub.execute_input": "2023-05-31T21:12:18.509284Z",
     "iopub.status.busy": "2023-05-31T21:12:18.508469Z",
     "iopub.status.idle": "2023-05-31T21:12:18.600159Z",
     "shell.execute_reply": "2023-05-31T21:12:18.598902Z"
    },
    "jupyter": {
     "outputs_hidden": false
    },
    "papermill": {
     "duration": 0.103679,
     "end_time": "2023-05-31T21:12:18.602340",
     "exception": false,
     "start_time": "2023-05-31T21:12:18.498661",
     "status": "completed"
    },
    "tags": []
   },
   "outputs": [
    {
     "name": "stdout",
     "output_type": "stream",
     "text": [
      "[nltk_data] Downloading package punkt to /usr/share/nltk_data...\n",
      "[nltk_data]   Package punkt is already up-to-date!\n"
     ]
    },
    {
     "data": {
      "text/plain": [
       "True"
      ]
     },
     "execution_count": 2,
     "metadata": {},
     "output_type": "execute_result"
    }
   ],
   "source": [
    "nltk.download('punkt')"
   ]
  },
  {
   "cell_type": "code",
   "execution_count": 3,
   "id": "f8654421",
   "metadata": {
    "_cell_guid": "18403c29-11a0-4695-9f88-76972d6c4c8c",
    "_uuid": "d40e03c6-48c1-4b4b-afcb-0d9f7ae159fe",
    "collapsed": false,
    "execution": {
     "iopub.execute_input": "2023-05-31T21:12:18.622726Z",
     "iopub.status.busy": "2023-05-31T21:12:18.621757Z",
     "iopub.status.idle": "2023-05-31T21:12:18.627237Z",
     "shell.execute_reply": "2023-05-31T21:12:18.626228Z"
    },
    "jupyter": {
     "outputs_hidden": false
    },
    "papermill": {
     "duration": 0.017817,
     "end_time": "2023-05-31T21:12:18.629249",
     "exception": false,
     "start_time": "2023-05-31T21:12:18.611432",
     "status": "completed"
    },
    "tags": []
   },
   "outputs": [],
   "source": [
    "from nltk.tokenize import RegexpTokenizer\n",
    "\n",
    "def arabic_tokenizer(text):\n",
    "    tokenizer = RegexpTokenizer(r'\\w+')\n",
    "    tokens = tokenizer.tokenize(text)\n",
    "    return tokens"
   ]
  },
  {
   "cell_type": "code",
   "execution_count": 4,
   "id": "7b2c7c64",
   "metadata": {
    "_cell_guid": "fb7a624b-94ee-4a08-ad17-a4f8f298f2aa",
    "_uuid": "b7a25f3d-59b9-423c-a424-9b807d30f586",
    "collapsed": false,
    "execution": {
     "iopub.execute_input": "2023-05-31T21:12:18.648690Z",
     "iopub.status.busy": "2023-05-31T21:12:18.648308Z",
     "iopub.status.idle": "2023-05-31T21:12:18.712289Z",
     "shell.execute_reply": "2023-05-31T21:12:18.710906Z"
    },
    "jupyter": {
     "outputs_hidden": false
    },
    "papermill": {
     "duration": 0.077662,
     "end_time": "2023-05-31T21:12:18.715741",
     "exception": false,
     "start_time": "2023-05-31T21:12:18.638079",
     "status": "completed"
    },
    "tags": []
   },
   "outputs": [],
   "source": [
    "dfTrain=pd.read_csv(\"/kaggle/input/arabic-levantine-hate-speech-detection/train.csv\")\n",
    "dfTest=pd.read_csv(\"/kaggle/input/arabic-levantine-hate-speech-detection/test.csv\")"
   ]
  },
  {
   "cell_type": "markdown",
   "id": "fe63cb8c",
   "metadata": {
    "_cell_guid": "6dde7d2e-e691-4fc5-8cd8-f3da3b61dd7e",
    "_uuid": "44a5776c-bff8-4b15-b364-023ee64ca1e1",
    "papermill": {
     "duration": 0.008628,
     "end_time": "2023-05-31T21:12:18.733424",
     "exception": false,
     "start_time": "2023-05-31T21:12:18.724796",
     "status": "completed"
    },
    "tags": []
   },
   "source": []
  },
  {
   "cell_type": "code",
   "execution_count": 5,
   "id": "9aa2db6e",
   "metadata": {
    "_cell_guid": "69625418-88cc-4516-8031-56d12f15284a",
    "_uuid": "908c4be8-b67d-4540-9cde-40a2907b6c35",
    "collapsed": false,
    "execution": {
     "iopub.execute_input": "2023-05-31T21:12:18.753747Z",
     "iopub.status.busy": "2023-05-31T21:12:18.753045Z",
     "iopub.status.idle": "2023-05-31T21:12:18.757285Z",
     "shell.execute_reply": "2023-05-31T21:12:18.756216Z"
    },
    "jupyter": {
     "outputs_hidden": false
    },
    "papermill": {
     "duration": 0.016806,
     "end_time": "2023-05-31T21:12:18.759467",
     "exception": false,
     "start_time": "2023-05-31T21:12:18.742661",
     "status": "completed"
    },
    "tags": []
   },
   "outputs": [],
   "source": [
    "dfTrainN=dfTrain\n",
    "dfTestN=dfTest"
   ]
  },
  {
   "cell_type": "code",
   "execution_count": 6,
   "id": "acad73c8",
   "metadata": {
    "_cell_guid": "b8bfa38c-3ca1-426e-b5e5-e0b6f8f56b76",
    "_uuid": "736a11d0-b972-4bf9-95f9-ad2dd553b2fa",
    "collapsed": false,
    "execution": {
     "iopub.execute_input": "2023-05-31T21:12:18.778935Z",
     "iopub.status.busy": "2023-05-31T21:12:18.778524Z",
     "iopub.status.idle": "2023-05-31T21:12:18.793124Z",
     "shell.execute_reply": "2023-05-31T21:12:18.791978Z"
    },
    "jupyter": {
     "outputs_hidden": false
    },
    "papermill": {
     "duration": 0.027188,
     "end_time": "2023-05-31T21:12:18.795604",
     "exception": false,
     "start_time": "2023-05-31T21:12:18.768416",
     "status": "completed"
    },
    "tags": []
   },
   "outputs": [],
   "source": [
    "dfTrainN[\"Class_new\"]=1\n",
    "dfTrainN.loc[dfTrainN[\"Class\"] == \"normal\", \"Class_new\"] = 0"
   ]
  },
  {
   "cell_type": "code",
   "execution_count": 7,
   "id": "60cddde1",
   "metadata": {
    "_cell_guid": "8067a583-3b83-4e0c-9560-303a7b531ab4",
    "_uuid": "1549ba94-2917-4cb5-ac69-25f317ab1830",
    "collapsed": false,
    "execution": {
     "iopub.execute_input": "2023-05-31T21:12:18.816046Z",
     "iopub.status.busy": "2023-05-31T21:12:18.814797Z",
     "iopub.status.idle": "2023-05-31T21:12:18.821958Z",
     "shell.execute_reply": "2023-05-31T21:12:18.821011Z"
    },
    "jupyter": {
     "outputs_hidden": false
    },
    "papermill": {
     "duration": 0.019638,
     "end_time": "2023-05-31T21:12:18.824271",
     "exception": false,
     "start_time": "2023-05-31T21:12:18.804633",
     "status": "completed"
    },
    "tags": []
   },
   "outputs": [],
   "source": [
    "dfTestN[\"Class_new\"]=1\n",
    "dfTestN.loc[dfTestN[\"Class\"] == \"normal\", \"Class_new\"] = 0"
   ]
  },
  {
   "cell_type": "code",
   "execution_count": 8,
   "id": "d5ca0f4b",
   "metadata": {
    "_cell_guid": "2fb93bc8-5f79-43c0-a9e5-f5095f3e8614",
    "_uuid": "9de7ebc0-1379-4af8-9418-6a11d9bfd18c",
    "collapsed": false,
    "execution": {
     "iopub.execute_input": "2023-05-31T21:12:18.845560Z",
     "iopub.status.busy": "2023-05-31T21:12:18.844887Z",
     "iopub.status.idle": "2023-05-31T21:12:18.850073Z",
     "shell.execute_reply": "2023-05-31T21:12:18.848890Z"
    },
    "jupyter": {
     "outputs_hidden": false
    },
    "papermill": {
     "duration": 0.019034,
     "end_time": "2023-05-31T21:12:18.852742",
     "exception": false,
     "start_time": "2023-05-31T21:12:18.833708",
     "status": "completed"
    },
    "tags": []
   },
   "outputs": [],
   "source": [
    "#dfTrainN['Tweet'] = dfTrainN['Tweet'].apply(lambda x: ' '.join(x))"
   ]
  },
  {
   "cell_type": "code",
   "execution_count": 9,
   "id": "f6c5b561",
   "metadata": {
    "_cell_guid": "752175af-e0ac-4b9c-848c-703d7ba799fc",
    "_uuid": "6f4314e0-566a-47a9-a34b-b37528b40f6f",
    "collapsed": false,
    "execution": {
     "iopub.execute_input": "2023-05-31T21:12:18.873094Z",
     "iopub.status.busy": "2023-05-31T21:12:18.872685Z",
     "iopub.status.idle": "2023-05-31T21:12:18.915222Z",
     "shell.execute_reply": "2023-05-31T21:12:18.914230Z"
    },
    "jupyter": {
     "outputs_hidden": false
    },
    "papermill": {
     "duration": 0.055597,
     "end_time": "2023-05-31T21:12:18.917640",
     "exception": false,
     "start_time": "2023-05-31T21:12:18.862043",
     "status": "completed"
    },
    "tags": []
   },
   "outputs": [],
   "source": [
    "dfTrainN['Tweet'] = dfTrainN['Tweet'].apply(lambda x: list(ngrams(x.split(), 1)))"
   ]
  },
  {
   "cell_type": "code",
   "execution_count": 10,
   "id": "e4a5b075",
   "metadata": {
    "_cell_guid": "aa522442-ea53-491f-8887-642cd715a7a6",
    "_uuid": "f5684b8a-de51-44ca-8f85-8657d002b91f",
    "collapsed": false,
    "execution": {
     "iopub.execute_input": "2023-05-31T21:12:18.937860Z",
     "iopub.status.busy": "2023-05-31T21:12:18.937471Z",
     "iopub.status.idle": "2023-05-31T21:12:18.952886Z",
     "shell.execute_reply": "2023-05-31T21:12:18.951746Z"
    },
    "jupyter": {
     "outputs_hidden": false
    },
    "papermill": {
     "duration": 0.028551,
     "end_time": "2023-05-31T21:12:18.955421",
     "exception": false,
     "start_time": "2023-05-31T21:12:18.926870",
     "status": "completed"
    },
    "tags": []
   },
   "outputs": [],
   "source": [
    "dfTestN['Tweet'] = dfTestN['Tweet'].apply(lambda x: list(ngrams(x.split(), 1)))"
   ]
  },
  {
   "cell_type": "code",
   "execution_count": 11,
   "id": "0a12f9cd",
   "metadata": {
    "_cell_guid": "fa0d28e5-6d84-4410-887f-c12346afebfe",
    "_uuid": "7e246d53-83d2-41ea-9c96-7ccdaadb5f6e",
    "collapsed": false,
    "execution": {
     "iopub.execute_input": "2023-05-31T21:12:18.975668Z",
     "iopub.status.busy": "2023-05-31T21:12:18.975275Z",
     "iopub.status.idle": "2023-05-31T21:12:19.045775Z",
     "shell.execute_reply": "2023-05-31T21:12:19.044704Z"
    },
    "jupyter": {
     "outputs_hidden": false
    },
    "papermill": {
     "duration": 0.083594,
     "end_time": "2023-05-31T21:12:19.048243",
     "exception": false,
     "start_time": "2023-05-31T21:12:18.964649",
     "status": "completed"
    },
    "tags": []
   },
   "outputs": [
    {
     "data": {
      "text/html": [
       "<div>\n",
       "<style scoped>\n",
       "    .dataframe tbody tr th:only-of-type {\n",
       "        vertical-align: middle;\n",
       "    }\n",
       "\n",
       "    .dataframe tbody tr th {\n",
       "        vertical-align: top;\n",
       "    }\n",
       "\n",
       "    .dataframe thead th {\n",
       "        text-align: right;\n",
       "    }\n",
       "</style>\n",
       "<table border=\"1\" class=\"dataframe\">\n",
       "  <thead>\n",
       "    <tr style=\"text-align: right;\">\n",
       "      <th></th>\n",
       "      <th>Tweet</th>\n",
       "      <th>Class</th>\n",
       "      <th>Class_new</th>\n",
       "    </tr>\n",
       "  </thead>\n",
       "  <tbody>\n",
       "    <tr>\n",
       "      <th>0</th>\n",
       "      <td>[(وزير,), (الخارجية,), (اللبناني,), (جبران,), ...</td>\n",
       "      <td>normal</td>\n",
       "      <td>0</td>\n",
       "    </tr>\n",
       "    <tr>\n",
       "      <th>1</th>\n",
       "      <td>[(سورية,), (بلد,), (الحضارات,), (تربطها,), (بع...</td>\n",
       "      <td>normal</td>\n",
       "      <td>0</td>\n",
       "    </tr>\n",
       "    <tr>\n",
       "      <th>2</th>\n",
       "      <td>[(اخي,), (الحاج,), (اذا,), (شعرت,), (انك,), (م...</td>\n",
       "      <td>normal</td>\n",
       "      <td>0</td>\n",
       "    </tr>\n",
       "    <tr>\n",
       "      <th>3</th>\n",
       "      <td>[(ما,), (فيك,), (تعيش,), (بلا,), (ما,), (تكب,)...</td>\n",
       "      <td>normal</td>\n",
       "      <td>0</td>\n",
       "    </tr>\n",
       "    <tr>\n",
       "      <th>4</th>\n",
       "      <td>[(هذا,), (البطل,), (الذي,), (قاتل,), (وجاذف,),...</td>\n",
       "      <td>abusive</td>\n",
       "      <td>1</td>\n",
       "    </tr>\n",
       "    <tr>\n",
       "      <th>...</th>\n",
       "      <td>...</td>\n",
       "      <td>...</td>\n",
       "      <td>...</td>\n",
       "    </tr>\n",
       "    <tr>\n",
       "      <th>4671</th>\n",
       "      <td>[(كول,), (هوا,), (مرة,), (تانيي,), (وحلوا,), (...</td>\n",
       "      <td>abusive</td>\n",
       "      <td>1</td>\n",
       "    </tr>\n",
       "    <tr>\n",
       "      <th>4672</th>\n",
       "      <td>[(رئيس,), (روحي؟,), (تروح,), (روحك,), (انت,), ...</td>\n",
       "      <td>abusive</td>\n",
       "      <td>1</td>\n",
       "    </tr>\n",
       "    <tr>\n",
       "      <th>4673</th>\n",
       "      <td>[(إذا,), (أرادت,), (إسرائيل,), (أن,), (تضمن,),...</td>\n",
       "      <td>normal</td>\n",
       "      <td>0</td>\n",
       "    </tr>\n",
       "    <tr>\n",
       "      <th>4674</th>\n",
       "      <td>[(خليك,), (بحالك,), (يا,), (نعيمي,), (على,), (...</td>\n",
       "      <td>abusive</td>\n",
       "      <td>1</td>\n",
       "    </tr>\n",
       "    <tr>\n",
       "      <th>4675</th>\n",
       "      <td>[(عيلة,), (كتاب,), (عدل,), (من,), (ثلاث,), (اش...</td>\n",
       "      <td>normal</td>\n",
       "      <td>0</td>\n",
       "    </tr>\n",
       "  </tbody>\n",
       "</table>\n",
       "<p>4676 rows × 3 columns</p>\n",
       "</div>"
      ],
      "text/plain": [
       "                                                  Tweet    Class  Class_new\n",
       "0     [(وزير,), (الخارجية,), (اللبناني,), (جبران,), ...   normal          0\n",
       "1     [(سورية,), (بلد,), (الحضارات,), (تربطها,), (بع...   normal          0\n",
       "2     [(اخي,), (الحاج,), (اذا,), (شعرت,), (انك,), (م...   normal          0\n",
       "3     [(ما,), (فيك,), (تعيش,), (بلا,), (ما,), (تكب,)...   normal          0\n",
       "4     [(هذا,), (البطل,), (الذي,), (قاتل,), (وجاذف,),...  abusive          1\n",
       "...                                                 ...      ...        ...\n",
       "4671  [(كول,), (هوا,), (مرة,), (تانيي,), (وحلوا,), (...  abusive          1\n",
       "4672  [(رئيس,), (روحي؟,), (تروح,), (روحك,), (انت,), ...  abusive          1\n",
       "4673  [(إذا,), (أرادت,), (إسرائيل,), (أن,), (تضمن,),...   normal          0\n",
       "4674  [(خليك,), (بحالك,), (يا,), (نعيمي,), (على,), (...  abusive          1\n",
       "4675  [(عيلة,), (كتاب,), (عدل,), (من,), (ثلاث,), (اش...   normal          0\n",
       "\n",
       "[4676 rows x 3 columns]"
      ]
     },
     "execution_count": 11,
     "metadata": {},
     "output_type": "execute_result"
    }
   ],
   "source": [
    "dfTrainN"
   ]
  },
  {
   "cell_type": "code",
   "execution_count": 12,
   "id": "844eeb0b",
   "metadata": {
    "_cell_guid": "a9a6337c-d392-4f6c-810c-dacd5b4f548f",
    "_uuid": "eced66b2-c85a-4a79-bfdd-97d9ee61b511",
    "collapsed": false,
    "execution": {
     "iopub.execute_input": "2023-05-31T21:12:19.069214Z",
     "iopub.status.busy": "2023-05-31T21:12:19.068802Z",
     "iopub.status.idle": "2023-05-31T21:12:19.123039Z",
     "shell.execute_reply": "2023-05-31T21:12:19.121891Z"
    },
    "jupyter": {
     "outputs_hidden": false
    },
    "papermill": {
     "duration": 0.06739,
     "end_time": "2023-05-31T21:12:19.125296",
     "exception": false,
     "start_time": "2023-05-31T21:12:19.057906",
     "status": "completed"
    },
    "tags": []
   },
   "outputs": [
    {
     "data": {
      "text/html": [
       "<div>\n",
       "<style scoped>\n",
       "    .dataframe tbody tr th:only-of-type {\n",
       "        vertical-align: middle;\n",
       "    }\n",
       "\n",
       "    .dataframe tbody tr th {\n",
       "        vertical-align: top;\n",
       "    }\n",
       "\n",
       "    .dataframe thead th {\n",
       "        text-align: right;\n",
       "    }\n",
       "</style>\n",
       "<table border=\"1\" class=\"dataframe\">\n",
       "  <thead>\n",
       "    <tr style=\"text-align: right;\">\n",
       "      <th></th>\n",
       "      <th>Tweet</th>\n",
       "      <th>Class</th>\n",
       "      <th>Class_new</th>\n",
       "    </tr>\n",
       "  </thead>\n",
       "  <tbody>\n",
       "    <tr>\n",
       "      <th>0</th>\n",
       "      <td>[(وحاج,), (حكي,), (مثاليات,), (وامه,), (ومابعر...</td>\n",
       "      <td>normal</td>\n",
       "      <td>0</td>\n",
       "    </tr>\n",
       "    <tr>\n",
       "      <th>1</th>\n",
       "      <td>[(قطر,), (مرادف,), (الارهاب,)]</td>\n",
       "      <td>hate</td>\n",
       "      <td>1</td>\n",
       "    </tr>\n",
       "    <tr>\n",
       "      <th>2</th>\n",
       "      <td>[(ارمني,), (يوناني,), (يحمل,), (جنسية,), (الما...</td>\n",
       "      <td>hate</td>\n",
       "      <td>1</td>\n",
       "    </tr>\n",
       "    <tr>\n",
       "      <th>3</th>\n",
       "      <td>[(يا,), (حمار,), (قمة,), (يعني,), (زبالة,)]</td>\n",
       "      <td>abusive</td>\n",
       "      <td>1</td>\n",
       "    </tr>\n",
       "    <tr>\n",
       "      <th>4</th>\n",
       "      <td>[(ما,), (حدا,), (غير,), (يلي,), (خلفتك,), (عاه...</td>\n",
       "      <td>abusive</td>\n",
       "      <td>1</td>\n",
       "    </tr>\n",
       "    <tr>\n",
       "      <th>...</th>\n",
       "      <td>...</td>\n",
       "      <td>...</td>\n",
       "      <td>...</td>\n",
       "    </tr>\n",
       "    <tr>\n",
       "      <th>1165</th>\n",
       "      <td>[(ههههههه,), (على,), (فكرة,), (بس,), (اقرأي,),...</td>\n",
       "      <td>abusive</td>\n",
       "      <td>1</td>\n",
       "    </tr>\n",
       "    <tr>\n",
       "      <th>1166</th>\n",
       "      <td>[(طول,), (ما,), (جبران,), (باسيل,), (ورا,), (م...</td>\n",
       "      <td>normal</td>\n",
       "      <td>0</td>\n",
       "    </tr>\n",
       "    <tr>\n",
       "      <th>1167</th>\n",
       "      <td>[(يلعن,), (روحه,), (من,), (الجد,), (للولد,), (...</td>\n",
       "      <td>abusive</td>\n",
       "      <td>1</td>\n",
       "    </tr>\n",
       "    <tr>\n",
       "      <th>1168</th>\n",
       "      <td>[(هاي,), (يا,), (غلن؟إي,), (إنت,), (أول,), (شي...</td>\n",
       "      <td>abusive</td>\n",
       "      <td>1</td>\n",
       "    </tr>\n",
       "    <tr>\n",
       "      <th>1169</th>\n",
       "      <td>[(طيب,), (في,), (تكبير,), (نفخ,), (شفط,), (او,...</td>\n",
       "      <td>normal</td>\n",
       "      <td>0</td>\n",
       "    </tr>\n",
       "  </tbody>\n",
       "</table>\n",
       "<p>1170 rows × 3 columns</p>\n",
       "</div>"
      ],
      "text/plain": [
       "                                                  Tweet    Class  Class_new\n",
       "0     [(وحاج,), (حكي,), (مثاليات,), (وامه,), (ومابعر...   normal          0\n",
       "1                        [(قطر,), (مرادف,), (الارهاب,)]     hate          1\n",
       "2     [(ارمني,), (يوناني,), (يحمل,), (جنسية,), (الما...     hate          1\n",
       "3           [(يا,), (حمار,), (قمة,), (يعني,), (زبالة,)]  abusive          1\n",
       "4     [(ما,), (حدا,), (غير,), (يلي,), (خلفتك,), (عاه...  abusive          1\n",
       "...                                                 ...      ...        ...\n",
       "1165  [(ههههههه,), (على,), (فكرة,), (بس,), (اقرأي,),...  abusive          1\n",
       "1166  [(طول,), (ما,), (جبران,), (باسيل,), (ورا,), (م...   normal          0\n",
       "1167  [(يلعن,), (روحه,), (من,), (الجد,), (للولد,), (...  abusive          1\n",
       "1168  [(هاي,), (يا,), (غلن؟إي,), (إنت,), (أول,), (شي...  abusive          1\n",
       "1169  [(طيب,), (في,), (تكبير,), (نفخ,), (شفط,), (او,...   normal          0\n",
       "\n",
       "[1170 rows x 3 columns]"
      ]
     },
     "execution_count": 12,
     "metadata": {},
     "output_type": "execute_result"
    }
   ],
   "source": [
    "dfTestN"
   ]
  },
  {
   "cell_type": "code",
   "execution_count": 13,
   "id": "51702e65",
   "metadata": {
    "_cell_guid": "af399f1a-d439-4e6e-b3b3-141763749fa5",
    "_uuid": "f205fa52-fd97-40e3-87fc-f1a5a445fb5c",
    "collapsed": false,
    "execution": {
     "iopub.execute_input": "2023-05-31T21:12:19.146679Z",
     "iopub.status.busy": "2023-05-31T21:12:19.146253Z",
     "iopub.status.idle": "2023-05-31T21:12:19.192447Z",
     "shell.execute_reply": "2023-05-31T21:12:19.190872Z"
    },
    "jupyter": {
     "outputs_hidden": false
    },
    "papermill": {
     "duration": 0.060211,
     "end_time": "2023-05-31T21:12:19.195326",
     "exception": false,
     "start_time": "2023-05-31T21:12:19.135115",
     "status": "completed"
    },
    "tags": []
   },
   "outputs": [],
   "source": [
    "dfTrainN=dfTrainN.explode('Tweet')"
   ]
  },
  {
   "cell_type": "code",
   "execution_count": 14,
   "id": "c94b9aa0",
   "metadata": {
    "_cell_guid": "78861a82-df0f-4d55-bf35-a5df4fe148e4",
    "_uuid": "b193e7e9-7f42-4522-8194-b67ca70abd8a",
    "collapsed": false,
    "execution": {
     "iopub.execute_input": "2023-05-31T21:12:19.217251Z",
     "iopub.status.busy": "2023-05-31T21:12:19.216421Z",
     "iopub.status.idle": "2023-05-31T21:12:19.229684Z",
     "shell.execute_reply": "2023-05-31T21:12:19.228691Z"
    },
    "jupyter": {
     "outputs_hidden": false
    },
    "papermill": {
     "duration": 0.026892,
     "end_time": "2023-05-31T21:12:19.232174",
     "exception": false,
     "start_time": "2023-05-31T21:12:19.205282",
     "status": "completed"
    },
    "tags": []
   },
   "outputs": [],
   "source": [
    "dfTestN=dfTestN.explode('Tweet')"
   ]
  },
  {
   "cell_type": "code",
   "execution_count": 15,
   "id": "addee49e",
   "metadata": {
    "_cell_guid": "8399dfd2-c1e2-450c-aa84-15d72ad5f8c5",
    "_uuid": "44468cc3-86b9-4e18-a48a-aa708a5e1f2d",
    "collapsed": false,
    "execution": {
     "iopub.execute_input": "2023-05-31T21:12:19.254121Z",
     "iopub.status.busy": "2023-05-31T21:12:19.253091Z",
     "iopub.status.idle": "2023-05-31T21:12:19.268523Z",
     "shell.execute_reply": "2023-05-31T21:12:19.267597Z"
    },
    "jupyter": {
     "outputs_hidden": false
    },
    "papermill": {
     "duration": 0.028622,
     "end_time": "2023-05-31T21:12:19.270663",
     "exception": false,
     "start_time": "2023-05-31T21:12:19.242041",
     "status": "completed"
    },
    "tags": []
   },
   "outputs": [
    {
     "data": {
      "text/html": [
       "<div>\n",
       "<style scoped>\n",
       "    .dataframe tbody tr th:only-of-type {\n",
       "        vertical-align: middle;\n",
       "    }\n",
       "\n",
       "    .dataframe tbody tr th {\n",
       "        vertical-align: top;\n",
       "    }\n",
       "\n",
       "    .dataframe thead th {\n",
       "        text-align: right;\n",
       "    }\n",
       "</style>\n",
       "<table border=\"1\" class=\"dataframe\">\n",
       "  <thead>\n",
       "    <tr style=\"text-align: right;\">\n",
       "      <th></th>\n",
       "      <th>Tweet</th>\n",
       "      <th>Class</th>\n",
       "      <th>Class_new</th>\n",
       "    </tr>\n",
       "  </thead>\n",
       "  <tbody>\n",
       "    <tr>\n",
       "      <th>0</th>\n",
       "      <td>(وزير,)</td>\n",
       "      <td>normal</td>\n",
       "      <td>0</td>\n",
       "    </tr>\n",
       "    <tr>\n",
       "      <th>0</th>\n",
       "      <td>(الخارجية,)</td>\n",
       "      <td>normal</td>\n",
       "      <td>0</td>\n",
       "    </tr>\n",
       "    <tr>\n",
       "      <th>0</th>\n",
       "      <td>(اللبناني,)</td>\n",
       "      <td>normal</td>\n",
       "      <td>0</td>\n",
       "    </tr>\n",
       "    <tr>\n",
       "      <th>0</th>\n",
       "      <td>(جبران,)</td>\n",
       "      <td>normal</td>\n",
       "      <td>0</td>\n",
       "    </tr>\n",
       "    <tr>\n",
       "      <th>0</th>\n",
       "      <td>(باسيل,)</td>\n",
       "      <td>normal</td>\n",
       "      <td>0</td>\n",
       "    </tr>\n",
       "    <tr>\n",
       "      <th>...</th>\n",
       "      <td>...</td>\n",
       "      <td>...</td>\n",
       "      <td>...</td>\n",
       "    </tr>\n",
       "    <tr>\n",
       "      <th>4675</th>\n",
       "      <td>(عصام,)</td>\n",
       "      <td>normal</td>\n",
       "      <td>0</td>\n",
       "    </tr>\n",
       "    <tr>\n",
       "      <th>4675</th>\n",
       "      <td>(نعيم,)</td>\n",
       "      <td>normal</td>\n",
       "      <td>0</td>\n",
       "    </tr>\n",
       "    <tr>\n",
       "      <th>4675</th>\n",
       "      <td>(جبران,)</td>\n",
       "      <td>normal</td>\n",
       "      <td>0</td>\n",
       "    </tr>\n",
       "    <tr>\n",
       "      <th>4675</th>\n",
       "      <td>(باسيل,)</td>\n",
       "      <td>normal</td>\n",
       "      <td>0</td>\n",
       "    </tr>\n",
       "    <tr>\n",
       "      <th>4675</th>\n",
       "      <td>(والنعم,)</td>\n",
       "      <td>normal</td>\n",
       "      <td>0</td>\n",
       "    </tr>\n",
       "  </tbody>\n",
       "</table>\n",
       "<p>56213 rows × 3 columns</p>\n",
       "</div>"
      ],
      "text/plain": [
       "            Tweet   Class  Class_new\n",
       "0         (وزير,)  normal          0\n",
       "0     (الخارجية,)  normal          0\n",
       "0     (اللبناني,)  normal          0\n",
       "0        (جبران,)  normal          0\n",
       "0        (باسيل,)  normal          0\n",
       "...           ...     ...        ...\n",
       "4675      (عصام,)  normal          0\n",
       "4675      (نعيم,)  normal          0\n",
       "4675     (جبران,)  normal          0\n",
       "4675     (باسيل,)  normal          0\n",
       "4675    (والنعم,)  normal          0\n",
       "\n",
       "[56213 rows x 3 columns]"
      ]
     },
     "execution_count": 15,
     "metadata": {},
     "output_type": "execute_result"
    }
   ],
   "source": [
    "dfTrainN"
   ]
  },
  {
   "cell_type": "code",
   "execution_count": 16,
   "id": "d195d7bf",
   "metadata": {
    "_cell_guid": "953b7bc4-7c16-481b-9e0d-e6f02705ed0c",
    "_uuid": "7d66a95e-a48f-4016-b3a2-a659099b6b45",
    "collapsed": false,
    "execution": {
     "iopub.execute_input": "2023-05-31T21:12:19.293211Z",
     "iopub.status.busy": "2023-05-31T21:12:19.292782Z",
     "iopub.status.idle": "2023-05-31T21:12:19.308744Z",
     "shell.execute_reply": "2023-05-31T21:12:19.307555Z"
    },
    "jupyter": {
     "outputs_hidden": false
    },
    "papermill": {
     "duration": 0.030698,
     "end_time": "2023-05-31T21:12:19.311510",
     "exception": false,
     "start_time": "2023-05-31T21:12:19.280812",
     "status": "completed"
    },
    "tags": []
   },
   "outputs": [
    {
     "data": {
      "text/html": [
       "<div>\n",
       "<style scoped>\n",
       "    .dataframe tbody tr th:only-of-type {\n",
       "        vertical-align: middle;\n",
       "    }\n",
       "\n",
       "    .dataframe tbody tr th {\n",
       "        vertical-align: top;\n",
       "    }\n",
       "\n",
       "    .dataframe thead th {\n",
       "        text-align: right;\n",
       "    }\n",
       "</style>\n",
       "<table border=\"1\" class=\"dataframe\">\n",
       "  <thead>\n",
       "    <tr style=\"text-align: right;\">\n",
       "      <th></th>\n",
       "      <th>Tweet</th>\n",
       "      <th>Class</th>\n",
       "      <th>Class_new</th>\n",
       "    </tr>\n",
       "  </thead>\n",
       "  <tbody>\n",
       "    <tr>\n",
       "      <th>0</th>\n",
       "      <td>(وحاج,)</td>\n",
       "      <td>normal</td>\n",
       "      <td>0</td>\n",
       "    </tr>\n",
       "    <tr>\n",
       "      <th>0</th>\n",
       "      <td>(حكي,)</td>\n",
       "      <td>normal</td>\n",
       "      <td>0</td>\n",
       "    </tr>\n",
       "    <tr>\n",
       "      <th>0</th>\n",
       "      <td>(مثاليات,)</td>\n",
       "      <td>normal</td>\n",
       "      <td>0</td>\n",
       "    </tr>\n",
       "    <tr>\n",
       "      <th>0</th>\n",
       "      <td>(وامه,)</td>\n",
       "      <td>normal</td>\n",
       "      <td>0</td>\n",
       "    </tr>\n",
       "    <tr>\n",
       "      <th>0</th>\n",
       "      <td>(ومابعرف,)</td>\n",
       "      <td>normal</td>\n",
       "      <td>0</td>\n",
       "    </tr>\n",
       "    <tr>\n",
       "      <th>...</th>\n",
       "      <td>...</td>\n",
       "      <td>...</td>\n",
       "      <td>...</td>\n",
       "    </tr>\n",
       "    <tr>\n",
       "      <th>1169</th>\n",
       "      <td>(نفخ,)</td>\n",
       "      <td>normal</td>\n",
       "      <td>0</td>\n",
       "    </tr>\n",
       "    <tr>\n",
       "      <th>1169</th>\n",
       "      <td>(شفط,)</td>\n",
       "      <td>normal</td>\n",
       "      <td>0</td>\n",
       "    </tr>\n",
       "    <tr>\n",
       "      <th>1169</th>\n",
       "      <td>(او,)</td>\n",
       "      <td>normal</td>\n",
       "      <td>0</td>\n",
       "    </tr>\n",
       "    <tr>\n",
       "      <th>1169</th>\n",
       "      <td>(بس,)</td>\n",
       "      <td>normal</td>\n",
       "      <td>0</td>\n",
       "    </tr>\n",
       "    <tr>\n",
       "      <th>1169</th>\n",
       "      <td>(شفاف؟,)</td>\n",
       "      <td>normal</td>\n",
       "      <td>0</td>\n",
       "    </tr>\n",
       "  </tbody>\n",
       "</table>\n",
       "<p>14452 rows × 3 columns</p>\n",
       "</div>"
      ],
      "text/plain": [
       "           Tweet   Class  Class_new\n",
       "0        (وحاج,)  normal          0\n",
       "0         (حكي,)  normal          0\n",
       "0     (مثاليات,)  normal          0\n",
       "0        (وامه,)  normal          0\n",
       "0     (ومابعرف,)  normal          0\n",
       "...          ...     ...        ...\n",
       "1169      (نفخ,)  normal          0\n",
       "1169      (شفط,)  normal          0\n",
       "1169       (او,)  normal          0\n",
       "1169       (بس,)  normal          0\n",
       "1169    (شفاف؟,)  normal          0\n",
       "\n",
       "[14452 rows x 3 columns]"
      ]
     },
     "execution_count": 16,
     "metadata": {},
     "output_type": "execute_result"
    }
   ],
   "source": [
    "dfTestN"
   ]
  },
  {
   "cell_type": "code",
   "execution_count": 17,
   "id": "29b61dbb",
   "metadata": {
    "_cell_guid": "b6be4e38-c8f4-435c-88a5-7ebf0ef0dcff",
    "_uuid": "601e81c3-7814-4c4f-9b9e-582d0020cffc",
    "collapsed": false,
    "execution": {
     "iopub.execute_input": "2023-05-31T21:12:19.334347Z",
     "iopub.status.busy": "2023-05-31T21:12:19.333947Z",
     "iopub.status.idle": "2023-05-31T21:12:19.341999Z",
     "shell.execute_reply": "2023-05-31T21:12:19.340995Z"
    },
    "jupyter": {
     "outputs_hidden": false
    },
    "papermill": {
     "duration": 0.022706,
     "end_time": "2023-05-31T21:12:19.344575",
     "exception": false,
     "start_time": "2023-05-31T21:12:19.321869",
     "status": "completed"
    },
    "tags": []
   },
   "outputs": [],
   "source": [
    "stop_words = set(stopwords.words('arabic'))"
   ]
  },
  {
   "cell_type": "code",
   "execution_count": 18,
   "id": "b728f793",
   "metadata": {
    "_cell_guid": "aa930506-3034-429f-86b3-f4f5d4d38ba3",
    "_uuid": "82fcef3f-a4d7-463e-9d06-a1b72ed84996",
    "collapsed": false,
    "execution": {
     "iopub.execute_input": "2023-05-31T21:12:19.367732Z",
     "iopub.status.busy": "2023-05-31T21:12:19.367324Z",
     "iopub.status.idle": "2023-05-31T21:12:19.420235Z",
     "shell.execute_reply": "2023-05-31T21:12:19.418836Z"
    },
    "jupyter": {
     "outputs_hidden": false
    },
    "papermill": {
     "duration": 0.067508,
     "end_time": "2023-05-31T21:12:19.422943",
     "exception": false,
     "start_time": "2023-05-31T21:12:19.355435",
     "status": "completed"
    },
    "tags": []
   },
   "outputs": [],
   "source": [
    "dfTrainN = dfTrainN[~dfTrainN['Tweet'].apply(lambda x: any(word in stop_words for word in x))]"
   ]
  },
  {
   "cell_type": "code",
   "execution_count": 19,
   "id": "0846d6f9",
   "metadata": {
    "_cell_guid": "43caab99-b333-4e70-830c-cd3432cbee76",
    "_uuid": "d62d0362-a36b-4158-98cd-0571797239b1",
    "collapsed": false,
    "execution": {
     "iopub.execute_input": "2023-05-31T21:12:19.445566Z",
     "iopub.status.busy": "2023-05-31T21:12:19.445162Z",
     "iopub.status.idle": "2023-05-31T21:12:19.463656Z",
     "shell.execute_reply": "2023-05-31T21:12:19.462470Z"
    },
    "jupyter": {
     "outputs_hidden": false
    },
    "papermill": {
     "duration": 0.032923,
     "end_time": "2023-05-31T21:12:19.466264",
     "exception": false,
     "start_time": "2023-05-31T21:12:19.433341",
     "status": "completed"
    },
    "tags": []
   },
   "outputs": [],
   "source": [
    "dfTestN = dfTestN[~dfTestN['Tweet'].apply(lambda x: any(word in stop_words for word in x))]"
   ]
  },
  {
   "cell_type": "code",
   "execution_count": 20,
   "id": "930b8959",
   "metadata": {
    "_cell_guid": "5ef65d04-c815-4147-9e5b-316bbd431b5a",
    "_uuid": "a0ad7968-5d57-4ea6-ba0a-4cdbd456c6f7",
    "collapsed": false,
    "execution": {
     "iopub.execute_input": "2023-05-31T21:12:19.489669Z",
     "iopub.status.busy": "2023-05-31T21:12:19.489265Z",
     "iopub.status.idle": "2023-05-31T21:12:19.504942Z",
     "shell.execute_reply": "2023-05-31T21:12:19.503748Z"
    },
    "jupyter": {
     "outputs_hidden": false
    },
    "papermill": {
     "duration": 0.030018,
     "end_time": "2023-05-31T21:12:19.507173",
     "exception": false,
     "start_time": "2023-05-31T21:12:19.477155",
     "status": "completed"
    },
    "tags": []
   },
   "outputs": [
    {
     "data": {
      "text/html": [
       "<div>\n",
       "<style scoped>\n",
       "    .dataframe tbody tr th:only-of-type {\n",
       "        vertical-align: middle;\n",
       "    }\n",
       "\n",
       "    .dataframe tbody tr th {\n",
       "        vertical-align: top;\n",
       "    }\n",
       "\n",
       "    .dataframe thead th {\n",
       "        text-align: right;\n",
       "    }\n",
       "</style>\n",
       "<table border=\"1\" class=\"dataframe\">\n",
       "  <thead>\n",
       "    <tr style=\"text-align: right;\">\n",
       "      <th></th>\n",
       "      <th>Tweet</th>\n",
       "      <th>Class</th>\n",
       "      <th>Class_new</th>\n",
       "    </tr>\n",
       "  </thead>\n",
       "  <tbody>\n",
       "    <tr>\n",
       "      <th>0</th>\n",
       "      <td>(وزير,)</td>\n",
       "      <td>normal</td>\n",
       "      <td>0</td>\n",
       "    </tr>\n",
       "    <tr>\n",
       "      <th>0</th>\n",
       "      <td>(الخارجية,)</td>\n",
       "      <td>normal</td>\n",
       "      <td>0</td>\n",
       "    </tr>\n",
       "    <tr>\n",
       "      <th>0</th>\n",
       "      <td>(اللبناني,)</td>\n",
       "      <td>normal</td>\n",
       "      <td>0</td>\n",
       "    </tr>\n",
       "    <tr>\n",
       "      <th>0</th>\n",
       "      <td>(جبران,)</td>\n",
       "      <td>normal</td>\n",
       "      <td>0</td>\n",
       "    </tr>\n",
       "    <tr>\n",
       "      <th>0</th>\n",
       "      <td>(باسيل,)</td>\n",
       "      <td>normal</td>\n",
       "      <td>0</td>\n",
       "    </tr>\n",
       "    <tr>\n",
       "      <th>...</th>\n",
       "      <td>...</td>\n",
       "      <td>...</td>\n",
       "      <td>...</td>\n",
       "    </tr>\n",
       "    <tr>\n",
       "      <th>4675</th>\n",
       "      <td>(عصام,)</td>\n",
       "      <td>normal</td>\n",
       "      <td>0</td>\n",
       "    </tr>\n",
       "    <tr>\n",
       "      <th>4675</th>\n",
       "      <td>(نعيم,)</td>\n",
       "      <td>normal</td>\n",
       "      <td>0</td>\n",
       "    </tr>\n",
       "    <tr>\n",
       "      <th>4675</th>\n",
       "      <td>(جبران,)</td>\n",
       "      <td>normal</td>\n",
       "      <td>0</td>\n",
       "    </tr>\n",
       "    <tr>\n",
       "      <th>4675</th>\n",
       "      <td>(باسيل,)</td>\n",
       "      <td>normal</td>\n",
       "      <td>0</td>\n",
       "    </tr>\n",
       "    <tr>\n",
       "      <th>4675</th>\n",
       "      <td>(والنعم,)</td>\n",
       "      <td>normal</td>\n",
       "      <td>0</td>\n",
       "    </tr>\n",
       "  </tbody>\n",
       "</table>\n",
       "<p>46109 rows × 3 columns</p>\n",
       "</div>"
      ],
      "text/plain": [
       "            Tweet   Class  Class_new\n",
       "0         (وزير,)  normal          0\n",
       "0     (الخارجية,)  normal          0\n",
       "0     (اللبناني,)  normal          0\n",
       "0        (جبران,)  normal          0\n",
       "0        (باسيل,)  normal          0\n",
       "...           ...     ...        ...\n",
       "4675      (عصام,)  normal          0\n",
       "4675      (نعيم,)  normal          0\n",
       "4675     (جبران,)  normal          0\n",
       "4675     (باسيل,)  normal          0\n",
       "4675    (والنعم,)  normal          0\n",
       "\n",
       "[46109 rows x 3 columns]"
      ]
     },
     "execution_count": 20,
     "metadata": {},
     "output_type": "execute_result"
    }
   ],
   "source": [
    "dfTrainN"
   ]
  },
  {
   "cell_type": "code",
   "execution_count": 21,
   "id": "a404804e",
   "metadata": {
    "_cell_guid": "f90fc966-5918-4171-b2c1-1915468c1f2b",
    "_uuid": "7ddf9669-ce84-4b39-9de3-960fb138a364",
    "collapsed": false,
    "execution": {
     "iopub.execute_input": "2023-05-31T21:12:19.530621Z",
     "iopub.status.busy": "2023-05-31T21:12:19.529763Z",
     "iopub.status.idle": "2023-05-31T21:12:19.545067Z",
     "shell.execute_reply": "2023-05-31T21:12:19.543902Z"
    },
    "jupyter": {
     "outputs_hidden": false
    },
    "papermill": {
     "duration": 0.029688,
     "end_time": "2023-05-31T21:12:19.547392",
     "exception": false,
     "start_time": "2023-05-31T21:12:19.517704",
     "status": "completed"
    },
    "tags": []
   },
   "outputs": [
    {
     "data": {
      "text/html": [
       "<div>\n",
       "<style scoped>\n",
       "    .dataframe tbody tr th:only-of-type {\n",
       "        vertical-align: middle;\n",
       "    }\n",
       "\n",
       "    .dataframe tbody tr th {\n",
       "        vertical-align: top;\n",
       "    }\n",
       "\n",
       "    .dataframe thead th {\n",
       "        text-align: right;\n",
       "    }\n",
       "</style>\n",
       "<table border=\"1\" class=\"dataframe\">\n",
       "  <thead>\n",
       "    <tr style=\"text-align: right;\">\n",
       "      <th></th>\n",
       "      <th>Tweet</th>\n",
       "      <th>Class</th>\n",
       "      <th>Class_new</th>\n",
       "    </tr>\n",
       "  </thead>\n",
       "  <tbody>\n",
       "    <tr>\n",
       "      <th>0</th>\n",
       "      <td>(وحاج,)</td>\n",
       "      <td>normal</td>\n",
       "      <td>0</td>\n",
       "    </tr>\n",
       "    <tr>\n",
       "      <th>0</th>\n",
       "      <td>(حكي,)</td>\n",
       "      <td>normal</td>\n",
       "      <td>0</td>\n",
       "    </tr>\n",
       "    <tr>\n",
       "      <th>0</th>\n",
       "      <td>(مثاليات,)</td>\n",
       "      <td>normal</td>\n",
       "      <td>0</td>\n",
       "    </tr>\n",
       "    <tr>\n",
       "      <th>0</th>\n",
       "      <td>(وامه,)</td>\n",
       "      <td>normal</td>\n",
       "      <td>0</td>\n",
       "    </tr>\n",
       "    <tr>\n",
       "      <th>0</th>\n",
       "      <td>(ومابعرف,)</td>\n",
       "      <td>normal</td>\n",
       "      <td>0</td>\n",
       "    </tr>\n",
       "    <tr>\n",
       "      <th>...</th>\n",
       "      <td>...</td>\n",
       "      <td>...</td>\n",
       "      <td>...</td>\n",
       "    </tr>\n",
       "    <tr>\n",
       "      <th>1169</th>\n",
       "      <td>(تكبير,)</td>\n",
       "      <td>normal</td>\n",
       "      <td>0</td>\n",
       "    </tr>\n",
       "    <tr>\n",
       "      <th>1169</th>\n",
       "      <td>(نفخ,)</td>\n",
       "      <td>normal</td>\n",
       "      <td>0</td>\n",
       "    </tr>\n",
       "    <tr>\n",
       "      <th>1169</th>\n",
       "      <td>(شفط,)</td>\n",
       "      <td>normal</td>\n",
       "      <td>0</td>\n",
       "    </tr>\n",
       "    <tr>\n",
       "      <th>1169</th>\n",
       "      <td>(او,)</td>\n",
       "      <td>normal</td>\n",
       "      <td>0</td>\n",
       "    </tr>\n",
       "    <tr>\n",
       "      <th>1169</th>\n",
       "      <td>(شفاف؟,)</td>\n",
       "      <td>normal</td>\n",
       "      <td>0</td>\n",
       "    </tr>\n",
       "  </tbody>\n",
       "</table>\n",
       "<p>11904 rows × 3 columns</p>\n",
       "</div>"
      ],
      "text/plain": [
       "           Tweet   Class  Class_new\n",
       "0        (وحاج,)  normal          0\n",
       "0         (حكي,)  normal          0\n",
       "0     (مثاليات,)  normal          0\n",
       "0        (وامه,)  normal          0\n",
       "0     (ومابعرف,)  normal          0\n",
       "...          ...     ...        ...\n",
       "1169    (تكبير,)  normal          0\n",
       "1169      (نفخ,)  normal          0\n",
       "1169      (شفط,)  normal          0\n",
       "1169       (او,)  normal          0\n",
       "1169    (شفاف؟,)  normal          0\n",
       "\n",
       "[11904 rows x 3 columns]"
      ]
     },
     "execution_count": 21,
     "metadata": {},
     "output_type": "execute_result"
    }
   ],
   "source": [
    "dfTestN"
   ]
  },
  {
   "cell_type": "code",
   "execution_count": 22,
   "id": "ae50d77d",
   "metadata": {
    "_cell_guid": "576bd86f-9c51-4a18-9f54-92cbb4821194",
    "_uuid": "e4c57f89-2cdf-45d4-82f1-538fe0427f87",
    "collapsed": false,
    "execution": {
     "iopub.execute_input": "2023-05-31T21:12:19.570706Z",
     "iopub.status.busy": "2023-05-31T21:12:19.570323Z",
     "iopub.status.idle": "2023-05-31T21:12:19.606617Z",
     "shell.execute_reply": "2023-05-31T21:12:19.605125Z"
    },
    "jupyter": {
     "outputs_hidden": false
    },
    "papermill": {
     "duration": 0.051369,
     "end_time": "2023-05-31T21:12:19.609657",
     "exception": false,
     "start_time": "2023-05-31T21:12:19.558288",
     "status": "completed"
    },
    "tags": []
   },
   "outputs": [
    {
     "data": {
      "text/plain": [
       "(جبران,)     866\n",
       "(باسيل,)     853\n",
       "(انت,)       416\n",
       "(الله,)      287\n",
       "(شو,)        285\n",
       "            ... \n",
       "(عنوانك,)      1\n",
       "(الواضح,)      1\n",
       "(يامير,)       1\n",
       "(مصمم,)        1\n",
       "(فشخكم,)       1\n",
       "Name: Tweet, Length: 18043, dtype: int64"
      ]
     },
     "execution_count": 22,
     "metadata": {},
     "output_type": "execute_result"
    }
   ],
   "source": [
    "dfTrainN['Tweet'].value_counts()"
   ]
  },
  {
   "cell_type": "code",
   "execution_count": 23,
   "id": "fd012bef",
   "metadata": {
    "_cell_guid": "61376ad9-7c94-4b06-862e-99fe5f2336cc",
    "_uuid": "eb89b384-44fb-41ea-be55-42d97fdf9b7a",
    "collapsed": false,
    "execution": {
     "iopub.execute_input": "2023-05-31T21:12:19.633107Z",
     "iopub.status.busy": "2023-05-31T21:12:19.632683Z",
     "iopub.status.idle": "2023-05-31T21:12:19.720108Z",
     "shell.execute_reply": "2023-05-31T21:12:19.719011Z"
    },
    "jupyter": {
     "outputs_hidden": false
    },
    "papermill": {
     "duration": 0.101779,
     "end_time": "2023-05-31T21:12:19.722422",
     "exception": false,
     "start_time": "2023-05-31T21:12:19.620643",
     "status": "completed"
    },
    "tags": []
   },
   "outputs": [
    {
     "data": {
      "text/plain": [
       "Class_new             \n",
       "0          (جبران,)       751\n",
       "           (باسيل,)       742\n",
       "           (عم,)          182\n",
       "           (الله,)        175\n",
       "           (لبنان,)       174\n",
       "                         ... \n",
       "1          (بقصد,)          1\n",
       "           (عامليتلك,)      1\n",
       "           (الزرقا,)        1\n",
       "           (الخرزة,)        1\n",
       "           (فشخكم,)         1\n",
       "Name: Tweet, Length: 20732, dtype: int64"
      ]
     },
     "execution_count": 23,
     "metadata": {},
     "output_type": "execute_result"
    }
   ],
   "source": [
    " dfTrainN.groupby('Class_new')[\"Tweet\"].apply(lambda x: x.value_counts())"
   ]
  },
  {
   "cell_type": "code",
   "execution_count": 24,
   "id": "d7350c62",
   "metadata": {
    "_cell_guid": "bf34b48a-155f-4423-86df-36583827b4c0",
    "_uuid": "4d9a55c3-805f-44e7-946b-acc60861727f",
    "collapsed": false,
    "execution": {
     "iopub.execute_input": "2023-05-31T21:12:19.746648Z",
     "iopub.status.busy": "2023-05-31T21:12:19.746203Z",
     "iopub.status.idle": "2023-05-31T21:12:19.751766Z",
     "shell.execute_reply": "2023-05-31T21:12:19.750518Z"
    },
    "jupyter": {
     "outputs_hidden": false
    },
    "papermill": {
     "duration": 0.020188,
     "end_time": "2023-05-31T21:12:19.754065",
     "exception": false,
     "start_time": "2023-05-31T21:12:19.733877",
     "status": "completed"
    },
    "tags": []
   },
   "outputs": [],
   "source": [
    "feature = dfTrainN.Tweet\n",
    "target = dfTrainN.Class_new\n",
    "feature1 = dfTestN.Tweet\n",
    "target1 = dfTestN.Class_new"
   ]
  },
  {
   "cell_type": "code",
   "execution_count": 25,
   "id": "6cc0d9cb",
   "metadata": {
    "_cell_guid": "4210abb5-9ee4-4936-bb9e-33db5c32f100",
    "_uuid": "e94d4812-863f-4c7b-a860-d6431a222f75",
    "collapsed": false,
    "execution": {
     "iopub.execute_input": "2023-05-31T21:12:19.779037Z",
     "iopub.status.busy": "2023-05-31T21:12:19.777797Z",
     "iopub.status.idle": "2023-05-31T21:12:19.787558Z",
     "shell.execute_reply": "2023-05-31T21:12:19.786557Z"
    },
    "jupyter": {
     "outputs_hidden": false
    },
    "papermill": {
     "duration": 0.024593,
     "end_time": "2023-05-31T21:12:19.790087",
     "exception": false,
     "start_time": "2023-05-31T21:12:19.765494",
     "status": "completed"
    },
    "tags": []
   },
   "outputs": [
    {
     "data": {
      "text/plain": [
       "0           (وزير,)\n",
       "0       (الخارجية,)\n",
       "0       (اللبناني,)\n",
       "0          (جبران,)\n",
       "0          (باسيل,)\n",
       "           ...     \n",
       "4675        (عصام,)\n",
       "4675        (نعيم,)\n",
       "4675       (جبران,)\n",
       "4675       (باسيل,)\n",
       "4675      (والنعم,)\n",
       "Name: Tweet, Length: 46109, dtype: object"
      ]
     },
     "execution_count": 25,
     "metadata": {},
     "output_type": "execute_result"
    }
   ],
   "source": [
    "feature"
   ]
  },
  {
   "cell_type": "code",
   "execution_count": 26,
   "id": "ec777579",
   "metadata": {
    "_cell_guid": "335ba426-3a6b-48f9-b417-1240980ddad0",
    "_uuid": "7b2acb77-bdbe-4eea-9528-3a351a5b2bb3",
    "collapsed": false,
    "execution": {
     "iopub.execute_input": "2023-05-31T21:12:19.815297Z",
     "iopub.status.busy": "2023-05-31T21:12:19.813955Z",
     "iopub.status.idle": "2023-05-31T21:12:19.824930Z",
     "shell.execute_reply": "2023-05-31T21:12:19.823626Z"
    },
    "jupyter": {
     "outputs_hidden": false
    },
    "papermill": {
     "duration": 0.025886,
     "end_time": "2023-05-31T21:12:19.827461",
     "exception": false,
     "start_time": "2023-05-31T21:12:19.801575",
     "status": "completed"
    },
    "tags": []
   },
   "outputs": [
    {
     "data": {
      "text/plain": [
       "0          (وحاج,)\n",
       "0           (حكي,)\n",
       "0       (مثاليات,)\n",
       "0          (وامه,)\n",
       "0       (ومابعرف,)\n",
       "           ...    \n",
       "1169      (تكبير,)\n",
       "1169        (نفخ,)\n",
       "1169        (شفط,)\n",
       "1169         (او,)\n",
       "1169      (شفاف؟,)\n",
       "Name: Tweet, Length: 11904, dtype: object"
      ]
     },
     "execution_count": 26,
     "metadata": {},
     "output_type": "execute_result"
    }
   ],
   "source": [
    "feature1"
   ]
  },
  {
   "cell_type": "code",
   "execution_count": 27,
   "id": "1b7d28f3",
   "metadata": {
    "_cell_guid": "e5374b03-5f85-4c7b-a4ed-d0dd6e0115e2",
    "_uuid": "3f77ed5e-af2e-4760-b92f-1b97dda3d866",
    "collapsed": false,
    "execution": {
     "iopub.execute_input": "2023-05-31T21:12:19.852632Z",
     "iopub.status.busy": "2023-05-31T21:12:19.852249Z",
     "iopub.status.idle": "2023-05-31T21:12:20.283369Z",
     "shell.execute_reply": "2023-05-31T21:12:20.282036Z"
    },
    "jupyter": {
     "outputs_hidden": false
    },
    "papermill": {
     "duration": 0.446612,
     "end_time": "2023-05-31T21:12:20.285991",
     "exception": false,
     "start_time": "2023-05-31T21:12:19.839379",
     "status": "completed"
    },
    "tags": []
   },
   "outputs": [
    {
     "name": "stderr",
     "output_type": "stream",
     "text": [
      "/opt/conda/lib/python3.10/site-packages/sklearn/feature_extraction/text.py:528: UserWarning: The parameter 'token_pattern' will not be used since 'tokenizer' is not None'\n",
      "  warnings.warn(\n",
      "/opt/conda/lib/python3.10/site-packages/sklearn/feature_extraction/text.py:409: UserWarning: Your stop_words may be inconsistent with your preprocessing. Tokenizing the stop words generated tokens ['آمين', 'أب', 'أخ', 'أفعل', 'أفعله', 'ؤلاء', 'إل', 'إم', 'ات', 'اتان', 'ارتد', 'ان', 'انفك', 'برح', 'تان', 'تبد', 'تحو', 'تعل', 'حد', 'حم', 'حي', 'خب', 'ذار', 'سيما', 'صه', 'ظل', 'ظن', 'عد', 'قط', 'مر', 'مكان', 'مكانكن', 'نب', 'هات', 'هب', 'واها', 'وراء'] not in stop_words.\n",
      "  warnings.warn(\n"
     ]
    },
    {
     "name": "stdout",
     "output_type": "stream",
     "text": [
      "Shape of TF-IDF train data: (46109, 17461)\n"
     ]
    }
   ],
   "source": [
    "# Create a TfidfVectorizer object with the custom tokenizer\n",
    "vectorizer = TfidfVectorizer(tokenizer=arabic_tokenizer, stop_words=stopwords.words('arabic'))\n",
    "\n",
    "# Fit and transform the 'Tweet' column in dfTrainN\n",
    "tfidf_train = vectorizer.fit_transform(dfTrainN['Tweet'].apply(lambda x: ' '.join(x)))\n",
    "\n",
    "# Print the shape of the transformed data\n",
    "print(\"Shape of TF-IDF train data:\", tfidf_train.shape)"
   ]
  },
  {
   "cell_type": "code",
   "execution_count": 28,
   "id": "fb746556",
   "metadata": {
    "_cell_guid": "9be89e17-464d-457d-a4b0-0dd813d17338",
    "_uuid": "6dd456ab-7ebc-4dcd-a3cc-1e09447044f1",
    "collapsed": false,
    "execution": {
     "iopub.execute_input": "2023-05-31T21:12:20.310693Z",
     "iopub.status.busy": "2023-05-31T21:12:20.310284Z",
     "iopub.status.idle": "2023-05-31T21:12:20.426372Z",
     "shell.execute_reply": "2023-05-31T21:12:20.425019Z"
    },
    "jupyter": {
     "outputs_hidden": false
    },
    "papermill": {
     "duration": 0.131474,
     "end_time": "2023-05-31T21:12:20.428867",
     "exception": false,
     "start_time": "2023-05-31T21:12:20.297393",
     "status": "completed"
    },
    "tags": []
   },
   "outputs": [
    {
     "name": "stdout",
     "output_type": "stream",
     "text": [
      "Shape of TF-IDF train data: (11904, 6428)\n"
     ]
    }
   ],
   "source": [
    "# Create a TfidfVectorizer object with the custom tokenizer\n",
    "vectorizer = TfidfVectorizer(tokenizer=arabic_tokenizer, stop_words=stopwords.words('arabic'))\n",
    "\n",
    "# Fit and transform the 'Tweet' column in dfTrainN\n",
    "tfidf_test = vectorizer.fit_transform(dfTestN['Tweet'].apply(lambda x: ' '.join(x)))\n",
    "\n",
    "# Print the shape of the transformed data\n",
    "print(\"Shape of TF-IDF train data:\", tfidf_test.shape)"
   ]
  },
  {
   "cell_type": "code",
   "execution_count": 29,
   "id": "07770734",
   "metadata": {
    "_cell_guid": "0d9bb4ab-6e22-46f4-8975-ce7b8ea56f48",
    "_uuid": "7e6b68db-6d7d-4f5e-8548-2ac13422c401",
    "collapsed": false,
    "execution": {
     "iopub.execute_input": "2023-05-31T21:12:20.453753Z",
     "iopub.status.busy": "2023-05-31T21:12:20.453289Z",
     "iopub.status.idle": "2023-05-31T21:12:26.038168Z",
     "shell.execute_reply": "2023-05-31T21:12:26.036889Z"
    },
    "jupyter": {
     "outputs_hidden": false
    },
    "papermill": {
     "duration": 5.600337,
     "end_time": "2023-05-31T21:12:26.040753",
     "exception": false,
     "start_time": "2023-05-31T21:12:20.440416",
     "status": "completed"
    },
    "tags": []
   },
   "outputs": [
    {
     "name": "stdout",
     "output_type": "stream",
     "text": [
      "Accuracy: 0.8728158602150538\n"
     ]
    }
   ],
   "source": [
    "from sklearn.svm import SVC\n",
    "\n",
    "# Create an SVM classifier\n",
    "svm = SVC(kernel='linear')\n",
    "\n",
    "# Fit the classifier to the training data\n",
    "svm.fit(tfidf_test, target1)\n",
    "\n",
    "# Transform the 'Tweet' column in dfTestN\n",
    "tfidf_test = vectorizer.transform(dfTestN['Tweet'].apply(lambda x: ' '.join(x)))\n",
    "\n",
    "# Predict the class labels for the test data\n",
    "predictions = svm.predict(tfidf_test)\n",
    "\n",
    "# Evaluate the accuracy of the model\n",
    "accuracy = accuracy_score(dfTestN['Class_new'], predictions)\n",
    "print(\"Accuracy:\", accuracy)"
   ]
  },
  {
   "cell_type": "code",
   "execution_count": 30,
   "id": "aaa44f22",
   "metadata": {
    "_cell_guid": "e092a957-4c1a-45ee-b917-893d90bcff08",
    "_uuid": "a5c0910f-261b-4af1-aace-281f1dc6b16c",
    "collapsed": false,
    "execution": {
     "iopub.execute_input": "2023-05-31T21:12:26.065421Z",
     "iopub.status.busy": "2023-05-31T21:12:26.065034Z",
     "iopub.status.idle": "2023-05-31T21:12:33.500819Z",
     "shell.execute_reply": "2023-05-31T21:12:33.499243Z"
    },
    "jupyter": {
     "outputs_hidden": false
    },
    "papermill": {
     "duration": 7.451536,
     "end_time": "2023-05-31T21:12:33.503879",
     "exception": false,
     "start_time": "2023-05-31T21:12:26.052343",
     "status": "completed"
    },
    "tags": []
   },
   "outputs": [
    {
     "name": "stdout",
     "output_type": "stream",
     "text": [
      "Accuracy: 0.8729838709677419\n"
     ]
    }
   ],
   "source": [
    "from sklearn.svm import SVC\n",
    "from sklearn.model_selection import train_test_split\n",
    "\n",
    "# Split the data into training and testing sets\n",
    "#X_train, X_test, y_train, y_test = train_test_split(tfidf_train, dfTrainN['Class_new'], test_size=0.2, random_state=42)\n",
    "\n",
    "# Initialize the SVM classifier\n",
    "svm = SVC()\n",
    "\n",
    "# Train the classifier on the training data\n",
    "svm.fit(tfidf_test, target1)\n",
    "\n",
    "# Evaluate the classifier on the test data\n",
    "accuracy = svm.score(tfidf_test, target1)\n",
    "print(\"Accuracy:\", accuracy)"
   ]
  },
  {
   "cell_type": "code",
   "execution_count": 31,
   "id": "893d43de",
   "metadata": {
    "_cell_guid": "7affb596-3836-4233-a6b4-f13ccf42fdba",
    "_uuid": "1596b21c-0227-4af9-8dba-09919e40f420",
    "collapsed": false,
    "execution": {
     "iopub.execute_input": "2023-05-31T21:12:33.529116Z",
     "iopub.status.busy": "2023-05-31T21:12:33.528604Z",
     "iopub.status.idle": "2023-05-31T21:12:33.534384Z",
     "shell.execute_reply": "2023-05-31T21:12:33.533191Z"
    },
    "jupyter": {
     "outputs_hidden": false
    },
    "papermill": {
     "duration": 0.021189,
     "end_time": "2023-05-31T21:12:33.536796",
     "exception": false,
     "start_time": "2023-05-31T21:12:33.515607",
     "status": "completed"
    },
    "tags": []
   },
   "outputs": [],
   "source": [
    "#pipe = make_pipeline(TfidfVectorizer(),LogisticRegression())"
   ]
  },
  {
   "cell_type": "code",
   "execution_count": 32,
   "id": "a7a27893",
   "metadata": {
    "_cell_guid": "4fbf78fe-ddbe-47db-8c70-9ab6e8bd2ad1",
    "_uuid": "5cd0b349-8475-4b8a-86f3-cce309a54650",
    "collapsed": false,
    "execution": {
     "iopub.execute_input": "2023-05-31T21:12:33.563246Z",
     "iopub.status.busy": "2023-05-31T21:12:33.562433Z",
     "iopub.status.idle": "2023-05-31T21:12:33.567869Z",
     "shell.execute_reply": "2023-05-31T21:12:33.566684Z"
    },
    "jupyter": {
     "outputs_hidden": false
    },
    "papermill": {
     "duration": 0.021108,
     "end_time": "2023-05-31T21:12:33.570106",
     "exception": false,
     "start_time": "2023-05-31T21:12:33.548998",
     "status": "completed"
    },
    "tags": []
   },
   "outputs": [],
   "source": [
    "#param_grid = {'logisticregression__C': [0.01, 0.1, 1, 10, 100]}"
   ]
  },
  {
   "cell_type": "code",
   "execution_count": 33,
   "id": "789545ee",
   "metadata": {
    "_cell_guid": "ee18cb84-0ebf-4874-b6bf-6d270794614b",
    "_uuid": "d6acb871-7f01-4867-9908-a0e7b5d4d310",
    "collapsed": false,
    "execution": {
     "iopub.execute_input": "2023-05-31T21:12:33.596616Z",
     "iopub.status.busy": "2023-05-31T21:12:33.595224Z",
     "iopub.status.idle": "2023-05-31T21:12:33.601600Z",
     "shell.execute_reply": "2023-05-31T21:12:33.599967Z"
    },
    "jupyter": {
     "outputs_hidden": false
    },
    "papermill": {
     "duration": 0.022265,
     "end_time": "2023-05-31T21:12:33.604237",
     "exception": false,
     "start_time": "2023-05-31T21:12:33.581972",
     "status": "completed"
    },
    "tags": []
   },
   "outputs": [],
   "source": [
    "#model = GridSearchCV(pipe, param_grid, cv=2)\n",
    "#model.fit(feature,target)"
   ]
  },
  {
   "cell_type": "code",
   "execution_count": null,
   "id": "9b014a28",
   "metadata": {
    "_cell_guid": "2f1cf8ef-ab8f-47f6-aa1c-cce83490d8c0",
    "_uuid": "7a89d400-10b3-413d-a910-bd330b1f2374",
    "collapsed": false,
    "jupyter": {
     "outputs_hidden": false
    },
    "papermill": {
     "duration": 0.011814,
     "end_time": "2023-05-31T21:12:33.628030",
     "exception": false,
     "start_time": "2023-05-31T21:12:33.616216",
     "status": "completed"
    },
    "tags": []
   },
   "outputs": [],
   "source": []
  }
 ],
 "metadata": {
  "kernelspec": {
   "display_name": "Python 3",
   "language": "python",
   "name": "python3"
  },
  "language_info": {
   "codemirror_mode": {
    "name": "ipython",
    "version": 3
   },
   "file_extension": ".py",
   "mimetype": "text/x-python",
   "name": "python",
   "nbconvert_exporter": "python",
   "pygments_lexer": "ipython3",
   "version": "3.10.10"
  },
  "papermill": {
   "default_parameters": {},
   "duration": 46.652422,
   "end_time": "2023-05-31T21:12:36.848028",
   "environment_variables": {},
   "exception": null,
   "input_path": "__notebook__.ipynb",
   "output_path": "__notebook__.ipynb",
   "parameters": {},
   "start_time": "2023-05-31T21:11:50.195606",
   "version": "2.4.0"
  }
 },
 "nbformat": 4,
 "nbformat_minor": 5
}
